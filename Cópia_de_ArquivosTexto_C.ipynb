{
  "nbformat": 4,
  "nbformat_minor": 0,
  "metadata": {
    "colab": {
      "provenance": [],
      "include_colab_link": true
    },
    "kernelspec": {
      "name": "python3",
      "display_name": "Python 3"
    },
    "language_info": {
      "name": "python"
    }
  },
  "cells": [
    {
      "cell_type": "markdown",
      "metadata": {
        "id": "view-in-github",
        "colab_type": "text"
      },
      "source": [
        "<a href=\"https://colab.research.google.com/github/luislustosa/POO/blob/master/C%C3%B3pia_de_ArquivosTexto_C.ipynb\" target=\"_parent\"><img src=\"https://colab.research.google.com/assets/colab-badge.svg\" alt=\"Open In Colab\"/></a>"
      ]
    },
    {
      "cell_type": "markdown",
      "source": [
        "# Arquivos Texto"
      ],
      "metadata": {
        "id": "ZoIxWSxK-yNJ"
      }
    },
    {
      "cell_type": "code",
      "execution_count": null,
      "metadata": {
        "id": "i-hb3prb9Wpj"
      },
      "outputs": [],
      "source": [
        "# Abrindo e fechando um arquivo manualmente\n",
        "file = open('exemplo.txt', 'w')\n",
        "# Abrindo para escrita\n",
        "file.write('Primeira linha do arquivo.\\n')\n",
        "file.close()  # Fechando o arquivo"
      ]
    },
    {
      "cell_type": "code",
      "source": [
        "#'r': leitura (padrão).\n",
        "#'w': escrita (substitui o conteúdo, ou cria o arquivo se não existir).\n",
        "#'a': adição de conteúdo ao final do arquivo.\n",
        "#'b': modo binário, geralmente usado para arquivos não-textuais."
      ],
      "metadata": {
        "id": "MECYdmk9__KD"
      },
      "execution_count": null,
      "outputs": []
    },
    {
      "cell_type": "code",
      "source": [
        "# Usando 'with' para garantir que o arquivo será fechado automaticamente\n",
        "with open('exemplo.txt', 'a') as file:\n",
        "  # 'a' de append para adicionar texto\n",
        "  file.write('Segunda linha do arquivo.\\n')"
      ],
      "metadata": {
        "id": "QBTwK9lQ_YQK"
      },
      "execution_count": null,
      "outputs": []
    },
    {
      "cell_type": "code",
      "source": [
        "with open('exemplo.txt', 'r') as file:\n",
        "    conteudo = file.read()\n",
        "    print(conteudo)"
      ],
      "metadata": {
        "id": "BfoogG3VA9uM"
      },
      "execution_count": null,
      "outputs": []
    },
    {
      "cell_type": "code",
      "source": [
        "from time import sleep\n",
        "with open('exemplo.txt', 'r') as file:\n",
        "  for linha in file:\n",
        "    print(linha.strip())\n",
        "    sleep(1)\n",
        "    # strip() remove espaços em branco no início e fim da linha"
      ],
      "metadata": {
        "colab": {
          "base_uri": "https://localhost:8080/"
        },
        "id": "V-jgbbkBB5ue",
        "outputId": "9372e03f-4a38-44dd-ab32-1f62accfdce7"
      },
      "execution_count": null,
      "outputs": [
        {
          "output_type": "stream",
          "name": "stdout",
          "text": [
            "Primeira linha do arquivo.\n",
            "Segunda linha do arquivo.\n"
          ]
        }
      ]
    },
    {
      "cell_type": "code",
      "source": [
        "with open('exemplo.txt', 'r') as file:\n",
        "    linhas = file.readlines()  # Retorna uma lista de linhas\n",
        "    print(linhas)"
      ],
      "metadata": {
        "colab": {
          "base_uri": "https://localhost:8080/"
        },
        "id": "bXOlaYpxC0KC",
        "outputId": "3a031c07-3476-4b88-832f-2edace81b7f6"
      },
      "execution_count": null,
      "outputs": [
        {
          "output_type": "stream",
          "name": "stdout",
          "text": [
            "['Primeira linha do arquivo.\\n', 'Segunda linha do arquivo.\\n']\n"
          ]
        }
      ]
    },
    {
      "cell_type": "code",
      "source": [
        "with open('entrada.txt', 'r') as file:\n",
        "    conteudo = file.read()\n",
        "    print(conteudo)"
      ],
      "metadata": {
        "id": "kXCeh3F2Fgm4"
      },
      "execution_count": null,
      "outputs": []
    },
    {
      "cell_type": "code",
      "source": [
        "# Contando palavras em um arquivo\n",
        "with open('entrada.txt', 'r') as file:\n",
        "    conteudo = file.read().lower()\n",
        "    palavras = conteudo.split()\n",
        "\n",
        "contador_palavras = {} #{'palavra': 5}\n",
        "for palavra in palavras:\n",
        "    if palavra in contador_palavras:\n",
        "        contador_palavras[palavra] += 1\n",
        "    else:\n",
        "        contador_palavras[palavra] = 1\n",
        "\n",
        "# Escrevendo o resultado em um arquivo\n",
        "with open('contagem_palavras.txt', 'w') as file:\n",
        "    for palavra, contagem in contador_palavras.items():\n",
        "        file.write(f'{palavra}: {contagem}\\n')"
      ],
      "metadata": {
        "id": "gmtO1yZtGRfk"
      },
      "execution_count": null,
      "outputs": []
    },
    {
      "cell_type": "code",
      "source": [
        "import csv\n",
        "\n",
        "dados = [\n",
        "    ['Nome', 'Idade', 'Cidade'],\n",
        "    ['Ana', '22', 'São Paulo'],\n",
        "    ['João', '35', 'Rio de Janeiro']\n",
        "]\n",
        "\n",
        "with open('saida.csv', 'w', newline='') as file:\n",
        "    escritor = csv.writer(file)\n",
        "    escritor.writerows(dados)"
      ],
      "metadata": {
        "id": "THXJvQUsMO9l"
      },
      "execution_count": null,
      "outputs": []
    }
  ]
}